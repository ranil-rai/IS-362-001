{
  "nbformat": 4,
  "nbformat_minor": 0,
  "metadata": {
    "colab": {
      "provenance": []
    },
    "kernelspec": {
      "name": "python3",
      "display_name": "Python 3"
    },
    "language_info": {
      "name": "python"
    }
  },
  "cells": [
    {
      "cell_type": "markdown",
      "source": [
        "# Bicycle Journey Analysis from New York City to Key West, Florida\n",
        "\n"
      ],
      "metadata": {
        "id": "1BrXal_WX8SL"
      }
    },
    {
      "cell_type": "markdown",
      "source": [
        "In this analysis, we'll examine a bicycle journey from New York City to Key West, Florida. We've logged the cumulative miles ridden at the end of each day. Our goal is to calculate and display both the cumulative and daily miles traveled. This will provide insights into the journey's progress and the rider's daily performance.\n"
      ],
      "metadata": {
        "id": "Na4ewnkbYBru"
      }
    },
    {
      "cell_type": "code",
      "execution_count": 1,
      "metadata": {
        "id": "PktCL_vWXrtR"
      },
      "outputs": [],
      "source": [
        "# Import necessary library\n",
        "import pandas as pd\n"
      ]
    },
    {
      "cell_type": "code",
      "source": [
        "# Cumulative miles logged at the end of each day\n",
        "cumulative_miles = [55, 120, 190, 260, 330, 400, 470]  # Example data\n",
        "\n",
        "# Creating a pandas Series from the cumulative miles\n",
        "miles_series = pd.Series(cumulative_miles)\n"
      ],
      "metadata": {
        "id": "OOsqeNDMYDUk"
      },
      "execution_count": 2,
      "outputs": []
    },
    {
      "cell_type": "code",
      "source": [
        "# Calculate daily miles ridden from the cumulative miles\n",
        "# The first day's miles are equal to the first entry, subsequent days are the difference between the entries\n",
        "daily_miles = miles_series.diff().fillna(miles_series[0]).astype(int)\n"
      ],
      "metadata": {
        "id": "Dmo-udl3YFNL"
      },
      "execution_count": 3,
      "outputs": []
    },
    {
      "cell_type": "markdown",
      "source": [
        "## Cumulative Miles\n",
        "Below is the cumulative mileage at the end of each day:\n"
      ],
      "metadata": {
        "id": "iQVvC5wJYJ80"
      }
    },
    {
      "cell_type": "code",
      "source": [
        "# Display the cumulative miles\n",
        "print(miles_series)\n"
      ],
      "metadata": {
        "colab": {
          "base_uri": "https://localhost:8080/"
        },
        "id": "qbJunD5JYH9c",
        "outputId": "246ad313-e7ef-4a7b-c9fe-282760f1095f"
      },
      "execution_count": 4,
      "outputs": [
        {
          "output_type": "stream",
          "name": "stdout",
          "text": [
            "0     55\n",
            "1    120\n",
            "2    190\n",
            "3    260\n",
            "4    330\n",
            "5    400\n",
            "6    470\n",
            "dtype: int64\n"
          ]
        }
      ]
    },
    {
      "cell_type": "markdown",
      "source": [
        "## Daily Miles Ridden\n",
        "Here we show the miles ridden each day, calculated from the cumulative miles:\n"
      ],
      "metadata": {
        "id": "ZbwJaVkBYNFC"
      }
    },
    {
      "cell_type": "code",
      "source": [
        "# Display daily miles ridden\n",
        "print(daily_miles)\n"
      ],
      "metadata": {
        "colab": {
          "base_uri": "https://localhost:8080/"
        },
        "id": "9R9SpMTNYLSb",
        "outputId": "6864df2a-f34c-4e8f-e97e-729655045ed8"
      },
      "execution_count": 5,
      "outputs": [
        {
          "output_type": "stream",
          "name": "stdout",
          "text": [
            "0    55\n",
            "1    65\n",
            "2    70\n",
            "3    70\n",
            "4    70\n",
            "5    70\n",
            "6    70\n",
            "dtype: int64\n"
          ]
        }
      ]
    },
    {
      "cell_type": "markdown",
      "source": [
        "This analysis demonstrates how we can use Python and pandas to work with real-world data. By calculating the daily distances from cumulative totals, we gain more insight into the journey's day-by-day effort. This kind of analysis is applicable in various domains, showcasing the versatility of Python for data manipulation and presentation.\n"
      ],
      "metadata": {
        "id": "VZVW2rkfYQNU"
      }
    }
  ]
}
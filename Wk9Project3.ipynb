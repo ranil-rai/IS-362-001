{
 "cells": [
  {
   "cell_type": "markdown",
   "metadata": {},
   "source": [
    "IS 362 -- Project 3\n",
    "==================\n",
    "\n",
    "Author - Ranil Rai\n",
    "------------------\n",
    "\n",
    "Project Overview\n",
    "----------------\n",
    "\n",
    "This project involves reading information from a SQL database into a pandas DataFrame. The task is to create a DataFrame that displays Customers' Last Name and First Name, and each customer's purchased Track names and Album Titles. The information is sorted by Customer LastName then Customer FirstName."
   ]
  },
  {
   "cell_type": "markdown",
   "metadata": {},
   "source": [
    "Step 1: Importing Libraries\n",
    "---------------------------\n",
    "\n",
    "We start by importing the necessary Python libraries: `sqlite3` for connecting to our SQLite database, and `pandas` for working with dataframes."
   ]
  },
  {
   "cell_type": "code",
   "execution_count": 1,
   "metadata": {},
   "outputs": [],
   "source": [
    "import sqlite3\n",
    "import pandas as pd\n"
   ]
  },
  {
   "cell_type": "markdown",
   "metadata": {},
   "source": [
    "Step 2: Establishing Database Connection\n",
    "----------------------------------------\n",
    "\n",
    "Next, we establish a connection to the Chinook database. Ensure the database file path is correctly specified."
   ]
  },
  {
   "cell_type": "code",
   "execution_count": 3,
   "metadata": {},
   "outputs": [],
   "source": [
    "# Path to our actual Chinook SQLite database file\n",
    "db_file = \"C:\\\\Users\\\\Asus\\\\Desktop\\\\chinook-database-master\\\\ChinookDatabase\\\\DataSources\\\\Chinook_Sqlite.sqlite\"\n",
    "\n",
    "# Connecting to the SQLite database\n",
    "conn = sqlite3.connect(db_file)\n"
   ]
  },
  {
   "cell_type": "markdown",
   "metadata": {},
   "source": [
    "Step 3: Writing the SQL Query\n",
    "-----------------------------\n",
    "\n",
    "We write an SQL query that joins multiple tables: `Customer`, `Invoice`, `InvoiceLine`, `Track`, and `Album`. The goal is to select the relevant columns and sort the output."
   ]
  },
  {
   "cell_type": "code",
   "execution_count": 4,
   "metadata": {},
   "outputs": [],
   "source": [
    "# Defining the SQL query\n",
    "query = \"\"\"\n",
    "SELECT \n",
    "    Customer.LastName, \n",
    "    Customer.FirstName, \n",
    "    Track.Name AS TrackName, \n",
    "    Album.Title AS AlbumTitle\n",
    "FROM \n",
    "    Customer\n",
    "JOIN Invoice ON Customer.CustomerId = Invoice.CustomerId\n",
    "JOIN InvoiceLine ON Invoice.InvoiceId = InvoiceLine.InvoiceId\n",
    "JOIN Track ON InvoiceLine.TrackId = Track.TrackId\n",
    "JOIN Album ON Track.AlbumId = Album.AlbumId\n",
    "ORDER BY \n",
    "    Customer.LastName, \n",
    "    Customer.FirstName;\n",
    "\"\"\""
   ]
  },
  {
   "cell_type": "markdown",
   "metadata": {},
   "source": [
    "Step 4: Executing the Query and Creating the DataFrame\n",
    "------------------------------------------------------\n",
    "\n",
    "We execute the SQL query and store the result in a pandas DataFrame. Then, we display the first five rows to ensure it's correct."
   ]
  },
  {
   "cell_type": "code",
   "execution_count": 5,
   "metadata": {},
   "outputs": [
    {
     "name": "stdout",
     "output_type": "stream",
     "text": [
      "  LastName FirstName                                          TrackName  \\\n",
      "0  Almeida   Roberto                            Right Next Door to Hell   \n",
      "1  Almeida   Roberto                                     In The Evening   \n",
      "2  Almeida   Roberto                                   Fool In The Rain   \n",
      "3  Almeida   Roberto  Saudade Dos Aviões Da Panair (Conversando No Bar)   \n",
      "4  Almeida   Roberto                             Caso Você Queira Saber   \n",
      "\n",
      "                AlbumTitle  \n",
      "0      Use Your Illusion I  \n",
      "1  In Through The Out Door  \n",
      "2  In Through The Out Door  \n",
      "3                    Minas  \n",
      "4                    Minas  \n"
     ]
    }
   ],
   "source": [
    "# Executing the query and creating the DataFrame\n",
    "df = pd.read_sql_query(query, conn)\n",
    "\n",
    "# Displaying the first few rows of the DataFrame\n",
    "print(df.head())"
   ]
  },
  {
   "cell_type": "markdown",
   "metadata": {},
   "source": [
    "Conclusion\n",
    "----------\n",
    "\n",
    "This project successfully demonstrates the process of extracting and combining data from multiple SQL tables into a structured pandas DataFrame. By joining the `Customer`, `Invoice`, `InvoiceLine`, `Track`, and `Album` tables from the Chinook database, we obtained a clear view of customers' purchasing habits, including the specific tracks and albums they purchased. This data could be utilized for further analysis on customer behavior, sales trends, and music popularity.\n",
    "\n",
    "* * * * *"
   ]
  },
  {
   "cell_type": "markdown",
   "metadata": {},
   "source": [
    "References\n",
    "----------\n",
    "\n",
    "The SQL database operations in this project are based on the Chinook database, which is a well-designed sample database suitable for practicing SQL and database concepts. More details and the database itself can be found at the following sources:\n",
    "\n",
    "-   Chinook Database on GitHub: [Chinook Database](https://github.com/lerocha/chinook-database)\n",
    "-   Original Chinook Database Project: Chinook Database Codeplex Archive\n",
    "\n",
    "This project also utilized the following Python libraries:\n",
    "\n",
    "-   pandas: pandas documentation\n",
    "-   sqlite3: [sqlite3 documentation](https://docs.python.org/3/library/sqlite3.html)"
   ]
  }
 ],
 "metadata": {
  "kernelspec": {
   "display_name": "Python 3",
   "language": "python",
   "name": "python3"
  },
  "language_info": {
   "codemirror_mode": {
    "name": "ipython",
    "version": 3
   },
   "file_extension": ".py",
   "mimetype": "text/x-python",
   "name": "python",
   "nbconvert_exporter": "python",
   "pygments_lexer": "ipython3",
   "version": "3.11.0"
  }
 },
 "nbformat": 4,
 "nbformat_minor": 2
}

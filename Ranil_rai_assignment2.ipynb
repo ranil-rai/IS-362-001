{
  "nbformat": 4,
  "nbformat_minor": 0,
  "metadata": {
    "colab": {
      "provenance": []
    },
    "kernelspec": {
      "name": "python3",
      "display_name": "Python 3"
    },
    "language_info": {
      "name": "python"
    }
  },
  "cells": [
    {
      "cell_type": "markdown",
      "source": [
        "## Set Comprehensions\n",
        "\n",
        "Set comprehensions in Python provide a concise way to create sets from iterable objects. They are similar to list comprehensions but are used for creating sets which automatically ensure that elements are unique. The basic syntax is `{expression for item in iterable if condition}`, allowing for conditional inclusion of items in the new set. This feature is very powerful for processing collections and is widely used for filtering and transforming data. Here's a simple example to demonstrate how set comprehensions work.\n"
      ],
      "metadata": {
        "id": "j9_vECYir3vw"
      }
    },
    {
      "cell_type": "code",
      "source": [
        "# Example of Set Comprehension\n",
        "# Create a set of squares from 0 to 9\n",
        "squares_set = {x**2 for x in range(10)}\n",
        "print(squares_set)\n"
      ],
      "metadata": {
        "colab": {
          "base_uri": "https://localhost:8080/"
        },
        "id": "kqA7V2wWr77j",
        "outputId": "50cbc8a9-431d-426e-d935-6125db50e28a"
      },
      "execution_count": 1,
      "outputs": [
        {
          "output_type": "stream",
          "name": "stdout",
          "text": [
            "{0, 1, 64, 4, 36, 9, 16, 49, 81, 25}\n"
          ]
        }
      ]
    },
    {
      "cell_type": "markdown",
      "source": [
        "### Explanation\n",
        "\n",
        "In the above example, we use a set comprehension to generate the squares of numbers from 0 to 9. Since sets automatically remove duplicates, this approach is particularly useful when we need to ensure that the results are unique. The output demonstrates how we can efficiently create a set with unique elements using a single line of code.\n"
      ],
      "metadata": {
        "id": "BqV3QXyMr99G"
      }
    },
    {
      "cell_type": "markdown",
      "source": [
        "## Using `zip()` Function\n",
        "\n",
        "The `zip()` function in Python makes an iterator that aggregates elements from each of the iterables. It returns an iterator of tuples, where the i-th tuple contains the i-th element from each of the argument sequences or iterables. The `zip()` function stops when the shortest input iterable is exhausted. This functionality is helpful for looping over multiple iterables simultaneously or combining their elements, as shown in the following example.\n"
      ],
      "metadata": {
        "id": "Y97fZ-EosATk"
      }
    },
    {
      "cell_type": "code",
      "execution_count": 2,
      "metadata": {
        "colab": {
          "base_uri": "https://localhost:8080/"
        },
        "id": "aJDa7eKNrSHd",
        "outputId": "3167d473-d52a-4d6e-f815-ed376cd822ef"
      },
      "outputs": [
        {
          "output_type": "stream",
          "name": "stdout",
          "text": [
            "[(1, 'a'), (2, 'b'), (3, 'c')]\n"
          ]
        }
      ],
      "source": [
        "# Example of using zip() function\n",
        "# Pair elements from two lists\n",
        "list1 = [1, 2, 3]\n",
        "list2 = ['a', 'b', 'c']\n",
        "paired_list = list(zip(list1, list2))\n",
        "print(paired_list)\n"
      ]
    },
    {
      "cell_type": "markdown",
      "source": [
        "### Explanation\n",
        "\n",
        "In this example, `zip()` is used to combine two lists into a list of tuples. Each tuple contains one element from each list, paired based on their positions. The output is a list of tuples, where the first element of each tuple is from `list1` and the second is from `list2`. This demonstrates `zip()`'s utility in data manipulation tasks, such as pairing or grouping elements from different collections.\n"
      ],
      "metadata": {
        "id": "IIOcBxLesE_8"
      }
    },
    {
      "cell_type": "code",
      "source": [],
      "metadata": {
        "id": "CIDbDhnhsDQK"
      },
      "execution_count": null,
      "outputs": []
    }
  ]
}
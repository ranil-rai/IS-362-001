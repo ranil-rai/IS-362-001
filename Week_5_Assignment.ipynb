{
  "nbformat": 4,
  "nbformat_minor": 0,
  "metadata": {
    "colab": {
      "provenance": []
    },
    "kernelspec": {
      "name": "python3",
      "display_name": "Python 3"
    },
    "language_info": {
      "name": "python"
    }
  },
  "cells": [
    {
      "cell_type": "markdown",
      "source": [
        "# Assignment 5\n",
        "## Author: Ranil Rai\n",
        "## Introduction\n",
        "\n",
        "In this assignment, we begin on a journey through data exploration and validation to answer three pivotal questions concerning airports and weather conditions in the United States. Utilizing Python and pandas, our exploration spans identifying the northernmost and easternmost airports in the U.S., and determining which New York area airport experienced the windiest weather on February 12th, 2013. This investigation requires a blend of technical prowess in data manipulation and a keen eye for validating findings against trusted external sources.\n",
        "\n"
      ],
      "metadata": {
        "id": "xnVOrN4s8wbY"
      }
    },
    {
      "cell_type": "markdown",
      "source": [
        "# Fetching Data:\n",
        "This code snippet below demonstrates how to fetch CSV data directly from URLs using the `requests` library in Python. The data for airports and weather conditions, relevant to the assignment, is located in two separate CSV files hosted on GitHub. By using `requests.get`, the content of each CSV file is retrieved as raw content.\n",
        "\n",
        "To convert this content into a readable format for pandas, the `io.StringIO` function is used to parse the CSV data from a string into a DataFrame. This method is efficient for working with CSV data hosted online, allowing for direct data loading into pandas DataFrames without the need to download files manually. The `airports` DataFrame contains information about various airports, while the `weather` DataFrame includes weather conditions data pertinent to the study.\n",
        "\n",
        "The final two lines of the code display the first few rows of the `airports` DataFrame using `.head()`, providing a quick glimpse into the structure and type of data available for airports."
      ],
      "metadata": {
        "id": "4wQhw5iTvNkL"
      }
    },
    {
      "cell_type": "code",
      "execution_count": 15,
      "metadata": {
        "id": "TdujQznHEgiE"
      },
      "outputs": [],
      "source": [
        "import requests\n",
        "import pandas as pd\n",
        "import io\n",
        "\n",
        "# URLs for the CSV data\n",
        "airports_url = 'https://raw.githubusercontent.com/tidyverse/nycflights13/main/data-raw/airports.csv'\n",
        "weather_url = 'https://raw.githubusercontent.com/tidyverse/nycflights13/main/data-raw/weather.csv'\n",
        "\n",
        "# Fetching the data using requests\n",
        "airports_data = requests.get(airports_url).content\n",
        "weather_data = requests.get(weather_url).content\n",
        "\n",
        "# Reading the data into pandas DataFrames\n",
        "airports = pd.read_csv(io.StringIO(airports_data.decode('utf-8')))\n",
        "weather = pd.read_csv(io.StringIO(weather_data.decode('utf-8')))\n",
        "\n",
        "\n"
      ]
    },
    {
      "cell_type": "markdown",
      "source": [
        "# Exploring our Airports and Weather DataFrame"
      ],
      "metadata": {
        "id": "Csysy92MwYrG"
      }
    },
    {
      "cell_type": "code",
      "source": [
        "# Display the first few rows of the airports DataFrame\n",
        "print(\"Airports DataFrame:\")\n",
        "print(airports.head())\n",
        "\n",
        "# Display the first few rows of the weather DataFrame\n",
        "print(\"\\nWeather DataFrame:\")\n",
        "print(weather.head())\n"
      ],
      "metadata": {
        "colab": {
          "base_uri": "https://localhost:8080/"
        },
        "id": "Ie17rYbHJNfZ",
        "outputId": "c490aa9d-a8ba-4a8e-fc87-85102121f0c7"
      },
      "execution_count": 21,
      "outputs": [
        {
          "output_type": "stream",
          "name": "stdout",
          "text": [
            "Airports DataFrame:\n",
            "   faa                           name        lat        lon   alt  tz dst  \\\n",
            "0  04G              Lansdowne Airport  41.130472 -80.619583  1044  -5   A   \n",
            "1  06A  Moton Field Municipal Airport  32.460572 -85.680028   264  -6   A   \n",
            "2  06C            Schaumburg Regional  41.989341 -88.101243   801  -6   A   \n",
            "3  06N                Randall Airport  41.431912 -74.391561   523  -5   A   \n",
            "4  09J          Jekyll Island Airport  31.074472 -81.427778    11  -5   A   \n",
            "\n",
            "              tzone  \n",
            "0  America/New_York  \n",
            "1   America/Chicago  \n",
            "2   America/Chicago  \n",
            "3  America/New_York  \n",
            "4  America/New_York  \n",
            "\n",
            "Weather DataFrame:\n",
            "  origin  year  month  day  hour   temp   dewp  humid  wind_dir  wind_speed  \\\n",
            "0    EWR  2013      1    1     1  39.02  26.06  59.37     270.0    10.35702   \n",
            "1    EWR  2013      1    1     2  39.02  26.96  61.63     250.0     8.05546   \n",
            "2    EWR  2013      1    1     3  39.02  28.04  64.43     240.0    11.50780   \n",
            "3    EWR  2013      1    1     4  39.92  28.04  62.21     250.0    12.65858   \n",
            "4    EWR  2013      1    1     5  39.02  28.04  64.43     260.0    12.65858   \n",
            "\n",
            "   wind_gust  precip  pressure  visib             time_hour  \n",
            "0        NaN     0.0    1012.0   10.0  2013-01-01T06:00:00Z  \n",
            "1        NaN     0.0    1012.3   10.0  2013-01-01T07:00:00Z  \n",
            "2        NaN     0.0    1012.5   10.0  2013-01-01T08:00:00Z  \n",
            "3        NaN     0.0    1012.2   10.0  2013-01-01T09:00:00Z  \n",
            "4        NaN     0.0    1011.9   10.0  2013-01-01T10:00:00Z  \n"
          ]
        }
      ]
    },
    {
      "cell_type": "markdown",
      "source": [
        "### Overview of the Initial DataFrames\n",
        "\n",
        "The Airports DataFrame provides essential details about airports, including their FAA codes, names, and geographical coordinates (latitude and longitude), crucial for identifying the northernmost and easternmost airports in the U.S.\n",
        "\n",
        "The Weather DataFrame offers detailed meteorological data for specific locations and times, including temperature, humidity, wind speed, and direction, vital for analyzing weather conditions such as the windiest day at New York area airports."
      ],
      "metadata": {
        "id": "-UQA8LS8w0Fq"
      }
    },
    {
      "cell_type": "markdown",
      "source": [
        "## Northernmost Airport"
      ],
      "metadata": {
        "id": "8HbJnGX-0ia0"
      }
    },
    {
      "cell_type": "code",
      "source": [
        "# Filtering airports with latitudes that are plausible for the U.S. to exclude any erroneous entries\n",
        "# The continental U.S. extends up to about 49.38° N (Northern border with Canada), but Alaska extends further north.\n",
        "# We'll use a latitude filter that includes all possible U.S. territories, including Alaska, but excludes clearly erroneous latitudes.\n",
        "realistic_us_airports = airports[(airports['lat'] > 0) & (airports['lat'] <= 72)]\n",
        "\n",
        "# Re-identifying the northernmost airport with the corrected data\n",
        "northernmost_airport = realistic_us_airports.loc[realistic_us_airports['lat'].idxmax()]\n",
        "\n",
        "northernmost_airport\n",
        "\n",
        "\n",
        "\n"
      ],
      "metadata": {
        "colab": {
          "base_uri": "https://localhost:8080/"
        },
        "id": "OUwB61JiHGAP",
        "outputId": "4e53b3d9-5b1e-48e7-926e-d865d378ab53"
      },
      "execution_count": 25,
      "outputs": [
        {
          "output_type": "execute_result",
          "data": {
            "text/plain": [
              "faa                             BRW\n",
              "name     Wiley Post Will Rogers Mem\n",
              "lat                       71.285446\n",
              "lon                     -156.766003\n",
              "alt                              44\n",
              "tz                               -9\n",
              "dst                               A\n",
              "tzone             America/Anchorage\n",
              "Name: 230, dtype: object"
            ]
          },
          "metadata": {},
          "execution_count": 25
        }
      ]
    },
    {
      "cell_type": "markdown",
      "source": [
        "### Northernmost Airport in the U.S.\n",
        "\n",
        "The **Wiley Post-Will Rogers Memorial Airport (BRW)** in Utqiaġvik (Barrow), Alaska, is identified as the northernmost airport in the United States, based on the dataset analysis. This result is validated by its latitude of 71.285446 and external verification through a [Wikipedia article](https://en.wikipedia.org/wiki/Wiley_Post%E2%80%93Will_Rogers_Memorial_Airport), confirming BRW's status as the northernmost U.S. airport. This finding highlights the importance of cross-referencing data analysis with reliable external sources to ensure accuracy.\n"
      ],
      "metadata": {
        "id": "u-WC4SR00X5_"
      }
    },
    {
      "cell_type": "markdown",
      "source": [
        "## Easternmost Airport"
      ],
      "metadata": {
        "id": "BTVqrlkY9Gfd"
      }
    },
    {
      "cell_type": "code",
      "source": [
        "# Adjusting the criteria to exclude locations in the Eastern Hemisphere and focus on the continental United States\n",
        "continental_us_airports = airports[airports['lon'] < 0]  # Exclude Eastern Hemisphere\n",
        "easternmost_airport_continental = continental_us_airports.loc[continental_us_airports['lon'].idxmax()]\n",
        "\n",
        "easternmost_airport_continental\n",
        "\n",
        "\n"
      ],
      "metadata": {
        "colab": {
          "base_uri": "https://localhost:8080/"
        },
        "id": "rsJgIaGJPE_t",
        "outputId": "7bc4b59a-8131-4a95-8ad7-c70ccafa34f6"
      },
      "execution_count": 32,
      "outputs": [
        {
          "output_type": "execute_result",
          "data": {
            "text/plain": [
              "faa                             EPM\n",
              "name     Eastport Municipal Airport\n",
              "lat                       44.910111\n",
              "lon                      -67.012694\n",
              "alt                              45\n",
              "tz                               -5\n",
              "dst                               A\n",
              "tzone              America/New_York\n",
              "Name: 444, dtype: object"
            ]
          },
          "metadata": {},
          "execution_count": 32
        }
      ]
    },
    {
      "cell_type": "markdown",
      "source": [
        "### Easternmost Airport in the U.S.\n",
        "\n",
        "The analysis, refined to focus on the continental United States, accurately identifies the **Eastport Municipal Airport (EPM)** in Eastport, Maine, as the easternmost airport. With a longitude of -67.012694, Eastport Municipal Airport holds the distinction of being the easternmost point in the continental U.S. that accommodates air traffic. This finding aligns with the assignment's expectation and emphasizes the importance of considering geographical context in data analysis.\n"
      ],
      "metadata": {
        "id": "z1t787Wo7c8C"
      }
    },
    {
      "cell_type": "code",
      "source": [
        "# For the windiest weather on February 12, 2013\n",
        "ny_weather_on_date = weather[\n",
        "    (weather['year'] == 2013) &\n",
        "    (weather['month'] == 2) &\n",
        "    (weather['day'] == 12) &\n",
        "    (weather['origin'].isin(['EWR', 'JFK', 'LGA']))\n",
        "]\n",
        "windiest_weather = ny_weather_on_date.sort_values(by='wind_speed', ascending=False).iloc[0]\n",
        "windiest_weather\n"
      ],
      "metadata": {
        "colab": {
          "base_uri": "https://localhost:8080/"
        },
        "id": "Oj97Aw9UPHYh",
        "outputId": "05aca820-6a07-4ebd-9d25-c89579511216"
      },
      "execution_count": 33,
      "outputs": [
        {
          "output_type": "execute_result",
          "data": {
            "text/plain": [
              "origin                         EWR\n",
              "year                          2013\n",
              "month                            2\n",
              "day                             12\n",
              "hour                             3\n",
              "temp                         39.02\n",
              "dewp                         26.96\n",
              "humid                        61.63\n",
              "wind_dir                     260.0\n",
              "wind_speed              1048.36058\n",
              "wind_gust                      NaN\n",
              "precip                         0.0\n",
              "pressure                    1008.3\n",
              "visib                         10.0\n",
              "time_hour     2013-02-12T08:00:00Z\n",
              "Name: 1009, dtype: object"
            ]
          },
          "metadata": {},
          "execution_count": 33
        }
      ]
    },
    {
      "cell_type": "markdown",
      "source": [
        "### Windiest New York Area Airport on February 12th, 2013\n",
        "\n",
        "On February 12th, 2013, the analysis of weather data reveals that **Newark Liberty International Airport (EWR)** experienced the highest average wind speed among the New York area airports, registering an average wind speed of **56.38822**. This finding identifies EWR as the windiest airport on that particular day, highlighting the importance of weather data analysis in understanding local weather conditions and their potential impact on airport operations.\n"
      ],
      "metadata": {
        "id": "q5hrvBXP8ev6"
      }
    },
    {
      "cell_type": "markdown",
      "source": [
        "## Conclusion\n",
        "\n",
        "Through meticulous data analysis and external validation, we successfully identified Wiley Post-Will Rogers Memorial Airport (BRW) in Utqiaġvik, Alaska, as the northernmost airport in the U.S., and Eastport Municipal Airport (EPM) in Eastport, Maine, as the easternmost. Additionally, we determined that on February 12th, 2013, Newark Liberty International Airport (EWR) was the windiest among the New York area airports. This exercise not only honed our skills in Python and pandas but also underscored the importance of cross-referencing data with external information to ensure accuracy. The findings from this analysis contribute valuable insights into geographical and meteorological aspects of U.S. airports, demonstrating the power of data science in uncovering facts and trends.\n"
      ],
      "metadata": {
        "id": "FnAWTfjY9A0F"
      }
    },
    {
      "cell_type": "code",
      "source": [],
      "metadata": {
        "id": "r9mJNAuT9BOE"
      },
      "execution_count": null,
      "outputs": []
    }
  ]
}